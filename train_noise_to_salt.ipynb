{
 "cells": [
  {
   "cell_type": "code",
   "execution_count": null,
   "metadata": {},
   "outputs": [],
   "source": [
    "from seasalt.noise_to_salt.noise_to_salt import (\n",
    "    NoiseDetector,\n",
    "    weighted_mean_conv,\n",
    "    calculate_wa_kernel,\n",
    "    train_model,\n",
    "    noise_adder,\n",
    "    data_folder,\n",
    ")\n",
    "from functools import partial\n",
    "from torch.nn import functional as F\n",
    "import torch\n",
    "from torchvision import datasets, transforms\n",
    "from torch.utils.data import random_split\n",
    "from torch.utils.data import DataLoader\n",
    "import numpy as np"
   ]
  },
  {
   "cell_type": "code",
   "execution_count": null,
   "metadata": {},
   "outputs": [],
   "source": [
    "if torch.cuda.is_available():\n",
    "    device = torch.device(\"cuda\")\n",
    "elif torch.backends.mps.is_available():\n",
    "    device = torch.device(\"mps\")\n",
    "else:\n",
    "    device = torch.device(\"cpu\")\n",
    "torch.manual_seed(101)\n",
    "np.random.seed(101)\n",
    "device"
   ]
  },
  {
   "cell_type": "code",
   "execution_count": null,
   "metadata": {},
   "outputs": [],
   "source": [
    "transform = transforms.Compose(\n",
    "    [\n",
    "        transforms.Grayscale(),\n",
    "        transforms.CenterCrop(321),\n",
    "        transforms.ToTensor(),\n",
    "    ]\n",
    ")\n",
    "\n",
    "wa_kerne = calculate_wa_kernel(27)\n",
    "\n",
    "\n",
    "def collate_images(noise_parameter, noise_type, batch):\n",
    "    images = [item[0] for item in batch]\n",
    "    max_height = max(img.shape[1] for img in images)\n",
    "    max_width = max(img.shape[2] for img in images)\n",
    "    padded_images = [\n",
    "        F.pad(img, (0, max_width - img.shape[2], 0, max_height - img.shape[1]))\n",
    "        for img in images\n",
    "    ]\n",
    "    stacked_images = torch.stack(padded_images)\n",
    "    noisy_images, masks = noise_adder(stacked_images, noise_parameter, noise_type)\n",
    "    return noisy_images, masks\n",
    "\n",
    "\n",
    "dataset = datasets.ImageFolder(root=str(data_folder), transform=transform)\n",
    "lengths = [round(len(dataset) * 0.8), round(len(dataset) * 0.2)]\n",
    "train_dataset, val_dataset = random_split(dataset, lengths)\n",
    "\n",
    "train_dataloader = DataLoader(\n",
    "    train_dataset,\n",
    "    batch_size=8,\n",
    "    shuffle=True,\n",
    "    collate_fn=partial(collate_images, 0.01, \"sap\"),\n",
    ")\n",
    "val_dataloader = DataLoader(\n",
    "    val_dataset,\n",
    "    batch_size=8,\n",
    "    shuffle=True,\n",
    "    collate_fn=partial(collate_images, 0.01, \"sap\"),\n",
    ")"
   ]
  },
  {
   "cell_type": "code",
   "execution_count": null,
   "metadata": {},
   "outputs": [],
   "source": [
    "model = NoiseDetector()#.cuda()\n",
    "model = model.to(device)"
   ]
  },
  {
   "cell_type": "code",
   "execution_count": null,
   "metadata": {},
   "outputs": [],
   "source": [
    "train_model(model, 1e-3, train_dataloader, val_dataloader, device, \"mask_unprocessed5\", 100, True)"
   ]
  }
 ],
 "metadata": {
  "kernelspec": {
   "display_name": "project-yKDSMzKm-py3.11",
   "language": "python",
   "name": "python3"
  },
  "language_info": {
   "codemirror_mode": {
    "name": "ipython",
    "version": 3
   },
   "file_extension": ".py",
   "mimetype": "text/x-python",
   "name": "python",
   "nbconvert_exporter": "python",
   "pygments_lexer": "ipython3",
   "version": "3.11.7"
  }
 },
 "nbformat": 4,
 "nbformat_minor": 2
}
