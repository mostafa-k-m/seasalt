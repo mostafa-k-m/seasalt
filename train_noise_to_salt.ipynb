{
 "cells": [
  {
   "cell_type": "code",
   "execution_count": 1,
   "metadata": {},
   "outputs": [],
   "source": [
    "import torch\n",
    "import numpy as np\n",
    "import random"
   ]
  },
  {
   "cell_type": "code",
   "execution_count": null,
   "metadata": {},
   "outputs": [],
   "source": [
    "from seasalt.salt_net import (\n",
    "    train_denoiser,\n",
    "    train_noise_detector,\n",
    "    DenoiseNet,\n",
    "    NoiseDetector,\n",
    "    NoiseType,\n",
    "    get_test_dataloader,\n",
    "    get_train_dataloader,\n",
    "    get_tensor_board_dataset,\n",
    ")"
   ]
  },
  {
   "cell_type": "code",
   "execution_count": null,
   "metadata": {},
   "outputs": [
    {
     "data": {
      "text/plain": [
       "device(type='cuda')"
      ]
     },
     "execution_count": 3,
     "metadata": {},
     "output_type": "execute_result"
    }
   ],
   "source": [
    "torch.manual_seed(101)\n",
    "np.random.seed(101)\n",
    "random.seed(101)\n",
    "\n",
    "if torch.cuda.is_available():\n",
    "    device = torch.device(\"cuda\")\n",
    "elif torch.backends.mps.is_available():\n",
    "    device = torch.device(\"mps\")\n",
    "else:\n",
    "    device = torch.device(\"cpu\")\n",
    "\n",
    "device"
   ]
  },
  {
   "cell_type": "code",
   "execution_count": null,
   "metadata": {},
   "outputs": [],
   "source": [
    "noise_type = NoiseType.PROBALISTIC\n",
    "min_noise = 0.4\n",
    "max_noise = 0.8\n",
    "batch_size = 32\n",
    "train_dataloader = get_train_dataloader(\n",
    "    noise_type, min_noise=min_noise, max_noise=max_noise, batch_size=batch_size\n",
    ")\n",
    "val_dataloader = get_test_dataloader(\n",
    "    noise_type, min_noise=min_noise, max_noise=max_noise, batch_size=batch_size\n",
    ")\n",
    "tb_dataloader = get_tensor_board_dataset(\n",
    "    noise_type, min_noise=min_noise, max_noise=max_noise, batch_size=8\n",
    ")"
   ]
  },
  {
   "cell_type": "code",
   "execution_count": null,
   "metadata": {},
   "outputs": [],
   "source": [
    "noise_detecor_model = NoiseDetector(squeeze_excitation=True, dropout=True)\n",
    "# noise_detecor_model = noise_detecor_model.to(device)\n",
    "# train_noise_detector(\n",
    "#     noise_detecor_model,\n",
    "#     1e-4,\n",
    "#     train_dataloader,\n",
    "#     val_dataloader,\n",
    "#     device,\n",
    "#     \"noise_detector_prob_se_uneq_trick_low_lr_more_data_dropout\",\n",
    "#     100,\n",
    "#     tb_dataloader,\n",
    "# )"
   ]
  },
  {
   "cell_type": "code",
   "execution_count": null,
   "metadata": {},
   "outputs": [],
   "source": [
    "X = next(train_dataloader.__iter__())[0][:1, :]\n",
    "mask = next(train_dataloader.__iter__())[1][:1, :]\n",
    "noise_detecor_model.load_state_dict(\n",
    "    torch.load(\n",
    "        \"./models/pytorch_noise_detector_prob_se_uneq_trick_low_lr_more_data_dropout_31.h5\"\n",
    "    ),\n",
    ")\n",
    "noise_detecor_model = noise_detecor_model.eval()\n",
    "traced_model = torch.jit.trace(noise_detecor_model, X)"
   ]
  },
  {
   "cell_type": "code",
   "execution_count": null,
   "metadata": {},
   "outputs": [],
   "source": [
    "traced_model.save(\"./models/detector.pt\")"
   ]
  },
  {
   "cell_type": "code",
   "execution_count": null,
   "metadata": {},
   "outputs": [],
   "source": [
    "# denoiser_model = DenoiseNet(\n",
    "#     output_cnn_depth=20,\n",
    "#     enable_seconv=True,\n",
    "#     enable_unet=False,\n",
    "#     enable_fft=True,\n",
    "#     enable_unet_post_processing=True,\n",
    "# )\n",
    "# denoiser_model = denoiser_model.to(device)\n",
    "# train_denoiser(\n",
    "#     denoiser_model,\n",
    "#     1e-3,\n",
    "#     train_dataloader,\n",
    "#     val_dataloader,\n",
    "#     device,\n",
    "#     \"test\",\n",
    "#     100,\n",
    "#     tb_dataloader,\n",
    "# )"
   ]
  }
 ],
 "metadata": {
  "kernelspec": {
   "display_name": "project-yKDSMzKm-py3.11",
   "language": "python",
   "name": "python3"
  },
  "language_info": {
   "codemirror_mode": {
    "name": "ipython",
    "version": 3
   },
   "file_extension": ".py",
   "mimetype": "text/x-python",
   "name": "python",
   "nbconvert_exporter": "python",
   "pygments_lexer": "ipython3",
   "version": "3.11.7"
  }
 },
 "nbformat": 4,
 "nbformat_minor": 2
}
