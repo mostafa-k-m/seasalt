{
 "cells": [
  {
   "cell_type": "code",
   "execution_count": 1,
   "metadata": {},
   "outputs": [],
   "source": [
    "from seasalt.noise_to_salt.noise_to_salt import (\n",
    "    NoiseDetector,\n",
    "    weighted_mean_conv,\n",
    "    train_model,\n",
    "    noise_adder,\n",
    "    data_folder,\n",
    ")\n",
    "from functools import partial\n",
    "from torch.nn import BCELoss\n",
    "from torch.nn import functional as F\n",
    "import torch\n",
    "import torch.optim as optim\n",
    "from torchvision import datasets, transforms\n",
    "from torch.utils.data import random_split\n",
    "from torch.utils.data import DataLoader\n",
    "import numpy as np"
   ]
  },
  {
   "cell_type": "code",
   "execution_count": 2,
   "metadata": {},
   "outputs": [],
   "source": [
    "device = (\n",
    "    torch.device(\"cuda\") if torch.cuda.is_available() else torch.device(\"mps\")\n",
    ")  # torch.device(\"cpu\")\n",
    "torch.manual_seed(101)\n",
    "np.random.seed(101)"
   ]
  },
  {
   "cell_type": "code",
   "execution_count": 3,
   "metadata": {},
   "outputs": [],
   "source": [
    "transform = transforms.Compose(\n",
    "    [\n",
    "        transforms.ToTensor(),\n",
    "    ]\n",
    ")\n",
    "\n",
    "\n",
    "def collate_pad_to_biggest(noise_parameter, noise_type, batch):\n",
    "    images = [item[0] for item in batch]\n",
    "    max_height = max(img.shape[1] for img in images)\n",
    "    max_width = max(img.shape[2] for img in images)\n",
    "    padded_images = [\n",
    "        F.pad(img, (0, max_width - img.shape[2], 0, max_height - img.shape[1]))\n",
    "        for img in images\n",
    "    ]\n",
    "    stacked_images = torch.stack(padded_images)\n",
    "    noisy_images, masks = noise_adder(stacked_images, noise_parameter, noise_type)\n",
    "    return noisy_images, masks\n",
    "\n",
    "\n",
    "dataset = datasets.ImageFolder(root=str(data_folder), transform=transform)\n",
    "lengths = [round(len(dataset) * 0.8), round(len(dataset) * 0.2)]\n",
    "train_dataset, val_dataset = random_split(dataset, lengths)\n",
    "\n",
    "train_dataloader = DataLoader(\n",
    "    train_dataset,\n",
    "    batch_size=16,\n",
    "    shuffle=True,\n",
    "    collate_fn=partial(collate_pad_to_biggest, 0.2, \"gaussian\"),\n",
    ")\n",
    "val_dataloader = DataLoader(\n",
    "    val_dataset,\n",
    "    batch_size=16,\n",
    "    shuffle=True,\n",
    "    collate_fn=partial(collate_pad_to_biggest, 0.2, \"gaussian\"),\n",
    ")"
   ]
  },
  {
   "cell_type": "code",
   "execution_count": 4,
   "metadata": {},
   "outputs": [],
   "source": [
    "model = NoiseDetector().cuda()\n",
    "optimizer = optim.Adam(model.parameters(), lr=1e-3)\n",
    "criterion = BCELoss()\n",
    "model = model.to(device)"
   ]
  },
  {
   "cell_type": "code",
   "execution_count": 5,
   "metadata": {},
   "outputs": [
    {
     "data": {
      "application/vnd.jupyter.widget-view+json": {
       "model_id": "9a42c986f6144b43b797d5961e6921f7",
       "version_major": 2,
       "version_minor": 0
      },
      "text/plain": [
       "Output()"
      ]
     },
     "metadata": {},
     "output_type": "display_data"
    }
   ],
   "source": [
    "train_model(\n",
    "    model,\n",
    "    \"gaussian\",\n",
    "    0.2,\n",
    "    optimizer,\n",
    "    criterion,\n",
    "    train_dataloader,\n",
    "    val_dataloader,\n",
    "    device,\n",
    "    \"efteta7\",\n",
    "    100,\n",
    ")"
   ]
  }
 ],
 "metadata": {
  "kernelspec": {
   "display_name": "project-yKDSMzKm-py3.11",
   "language": "python",
   "name": "python3"
  },
  "language_info": {
   "codemirror_mode": {
    "name": "ipython",
    "version": 3
   },
   "file_extension": ".py",
   "mimetype": "text/x-python",
   "name": "python",
   "nbconvert_exporter": "python",
   "pygments_lexer": "ipython3",
   "version": "3.11.7"
  }
 },
 "nbformat": 4,
 "nbformat_minor": 2
}
