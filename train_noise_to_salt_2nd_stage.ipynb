{
 "cells": [
  {
   "cell_type": "code",
   "execution_count": null,
   "metadata": {},
   "outputs": [],
   "source": [
    "import torch\n",
    "import numpy as np\n",
    "import random"
   ]
  },
  {
   "cell_type": "code",
   "execution_count": null,
   "metadata": {},
   "outputs": [],
   "source": [
    "from seasalt.salt_net import (\n",
    "    train_denoiser,\n",
    "    train_noise_detector,\n",
    "    HybridModel,\n",
    "    NoiseType,\n",
    "    get_test_dataloader,\n",
    "    get_train_dataloader,\n",
    "    get_tensor_board_dataset,\n",
    "    train_hybrid_model,\n",
    ")"
   ]
  },
  {
   "cell_type": "code",
   "execution_count": null,
   "metadata": {},
   "outputs": [],
   "source": [
    "torch.manual_seed(101)\n",
    "np.random.seed(101)\n",
    "random.seed(101)\n",
    "\n",
    "if torch.cuda.is_available():\n",
    "    device = torch.device(\"cuda\")\n",
    "elif torch.backends.mps.is_available():\n",
    "    device = torch.device(\"mps\")\n",
    "else:\n",
    "    device = torch.device(\"cpu\")\n",
    "\n",
    "device"
   ]
  },
  {
   "cell_type": "code",
   "execution_count": null,
   "metadata": {},
   "outputs": [],
   "source": [
    "noise_type = NoiseType.RANDOM\n",
    "min_noise = 0.4\n",
    "max_noise = 0.95\n",
    "batch_size = 16\n",
    "train_dataloader = get_train_dataloader(\n",
    "    noise_type, min_noise=min_noise, max_noise=max_noise, batch_size=batch_size\n",
    ")\n",
    "val_dataloader = get_test_dataloader(\n",
    "    noise_type, min_noise=min_noise, max_noise=max_noise, batch_size=batch_size\n",
    ")\n",
    "tb_dataloader = get_tensor_board_dataset(\n",
    "    noise_type, min_noise=min_noise, max_noise=max_noise, batch_size=8\n",
    ")"
   ]
  },
  {
   "cell_type": "code",
   "execution_count": null,
   "metadata": {},
   "outputs": [],
   "source": [
    "denoiser_model = HybridModel(\n",
    "    denoiser_weights_path=\"./models/pytorch_best_frank_model_88.h5\",\n",
    "    detector_weights_path=\"./models/pytorch_noise_detector_prob_se_\"\n",
    "    \"uneq_trick_low_lr_more_data_dropout_40.h5\",\n",
    ")\n",
    "denoiser_model.to(device)\n",
    "train_hybrid_model(\n",
    "    denoiser_model,\n",
    "    1e-3,\n",
    "    train_dataloader,\n",
    "    val_dataloader,\n",
    "    device,\n",
    "    \"new_gausian_90\",\n",
    "    100,\n",
    "    tb_dataloader,\n",
    ")"
   ]
  }
 ],
 "metadata": {
  "kernelspec": {
   "display_name": "project-yKDSMzKm-py3.11",
   "language": "python",
   "name": "python3"
  },
  "language_info": {
   "codemirror_mode": {
    "name": "ipython",
    "version": 3
   },
   "file_extension": ".py",
   "mimetype": "text/x-python",
   "name": "python",
   "nbconvert_exporter": "python",
   "pygments_lexer": "ipython3",
   "version": "3.11.6"
  }
 },
 "nbformat": 4,
 "nbformat_minor": 2
}
