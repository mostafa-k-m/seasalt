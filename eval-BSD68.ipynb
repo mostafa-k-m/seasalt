{
 "cells": [
  {
   "attachments": {},
   "cell_type": "markdown",
   "metadata": {},
   "source": [
    "# Outlier Method of Filtering\n",
    "\n",
    "**Mostafa Kamal Mostafa Kamel (mos.kamal@nu.edu.eg)**\n"
   ]
  },
  {
   "attachments": {},
   "cell_type": "markdown",
   "metadata": {},
   "source": [
    "## Eval\n"
   ]
  },
  {
   "cell_type": "code",
   "execution_count": null,
   "metadata": {},
   "outputs": [],
   "source": [
    "from seasalt.seasalt import apply_salt_pepper\n",
    "from PIL import Image\n",
    "from glob import glob\n",
    "from pathlib import Path\n",
    "import pandas as pd\n",
    "from typing import Callable, Optional\n",
    "from skimage.metrics import structural_similarity, peak_signal_noise_ratio\n",
    "\n",
    "\n",
    "import matplotlib.pyplot as plt\n",
    "import numpy as np\n",
    "from rich.progress import Progress\n",
    "\n",
    "from scipy.signal import medfilt\n",
    "import warnings\n",
    "import seaborn as sns\n",
    "from seasalt.cython_seasalt import fixed_window_outlier_filter\n",
    "\n",
    "warnings.filterwarnings(\"ignore\")\n",
    "path_to_images = Path().resolve().joinpath(\"BSD68\")\n",
    "image_paths = glob(f\"{str(path_to_images)}/*\")\n",
    "\n",
    "def plot_transformation_hist_eq(\n",
    "    im, sp_ratio, size=3, max_size=15, metric=\"PSNR\", save_path: Optional[str] = None\n",
    ") -> float:\n",
    "    metric_calculator = peak_signal_noise_ratio if metric==\"PSNR\" else structural_similarity\n",
    "    im_gs = im.convert(\"L\")\n",
    "    arr = np.array(im_gs)  # convert the PIL image object to array\n",
    "    seasoned_image = apply_salt_pepper(arr, ratio=sp_ratio)\n",
    "    corrected_novel = fixed_window_outlier_filter(np.copy(seasoned_image), size)\n",
    "    noisy_metric = metric_calculator(arr, seasoned_image)\n",
    "    novel_metric = metric_calculator(arr, corrected_novel)\n",
    "    fig = plt.figure(\n",
    "        figsize=(\n",
    "            12*3,\n",
    "            5*3,\n",
    "        ),\n",
    "        dpi=80,\n",
    "    )\n",
    "    gs = fig.add_gridspec(1, 3, hspace=0.12, wspace=0.08)\n",
    "    axes = gs.subplots(sharex=\"col\", sharey=\"row\")\n",
    "    list(map(lambda ax: ax.set_axis_off(), axes.flatten()))\n",
    "    list(  # type: ignore\n",
    "        map(\n",
    "            lambda input: input[0].set_title(input[1]),\n",
    "            zip(\n",
    "                axes.flatten(),\n",
    "                [\n",
    "                    \"Original\",\n",
    "                    f\"Noisy Image {round(noisy_metric, 2)} dB\",\n",
    "                    \"Novel Approach\\n\" f\"{round(novel_metric, 2)} dB\",\n",
    "                ],\n",
    "            ),\n",
    "        )\n",
    "    )\n",
    "    axes[0].imshow(im_gs, cmap=\"gray\", vmin=0, vmax=255)\n",
    "    axes[1].imshow(seasoned_image, cmap=\"gray\", vmin=0, vmax=255)\n",
    "    axes[2].imshow(corrected_novel, cmap=\"gray\", vmin=0, vmax=255)\n",
    "    if save_path:\n",
    "        plt.axis(\"off\")\n",
    "        Path(f\"./eval/BSD58-test/{metric}/{save_path}\").parent.mkdir(parents=True, exist_ok=True)\n",
    "        fig.savefig(f\"./eval/BSD58-test/{metric}/{save_path}\")\n",
    "        plt.close()\n",
    "    return novel_metric"
   ]
  },
  {
   "cell_type": "code",
   "execution_count": null,
   "metadata": {},
   "outputs": [],
   "source": [
    "def plot_single_image(seasoned_arr):\n",
    "    fig = plt.figure(\n",
    "        figsize=(\n",
    "            10,\n",
    "            20,\n",
    "        ),\n",
    "        dpi=80,\n",
    "    )\n",
    "    gs = fig.add_gridspec(1, 1, hspace=0.12, wspace=0.08)\n",
    "    ax = gs.subplots(sharex=\"col\", sharey=\"row\")\n",
    "    ax.imshow(seasoned_arr, cmap=\"gray\", vmin=0, vmax=255)\n",
    "    ax.set_axis_off()"
   ]
  },
  {
   "cell_type": "code",
   "execution_count": null,
   "metadata": {},
   "outputs": [],
   "source": [
    "data_dict_eq = dict(\n",
    "    im_index=[],\n",
    "    sp=[],\n",
    "    novel_snr=[],\n",
    ")\n",
    "root_path = Path().resolve().joinpath(\"aof_eval\").joinpath(\"eq\")\n",
    "\n",
    "with Progress() as progress:\n",
    "    task = progress.add_task(\"Running...\", total=len(image_paths) * 10)\n",
    "\n",
    "    for p in image_paths:\n",
    "        img_name = p.split(\"/\")[-1].split(\".\")[0]\n",
    "        for sp, size in zip(\n",
    "            [0.1, 0.2, 0.3, 0.4, 0.5, 0.6, 0.7, 0.8, 0.9, 0.95],\n",
    "            [3,   3,   3,   5,   5,   5,   7,   11,   17,   19],\n",
    "        ):\n",
    "            im = Image.open(p)\n",
    "            novel_snr = plot_transformation_hist_eq(\n",
    "                im,\n",
    "                sp_ratio=sp,\n",
    "                size=size,\n",
    "                metric=\"PSNR\",\n",
    "                save_path=f\"{p.split('/')[-1].split('.')[0]}/{int(sp*100)}.png\",\n",
    "            )\n",
    "            data_dict_eq[\"im_index\"].append(img_name)\n",
    "            data_dict_eq[\"sp\"].append(sp)\n",
    "            data_dict_eq[\"novel_snr\"].append(novel_snr)\n",
    "            progress.update(task, advance=1)"
   ]
  },
  {
   "cell_type": "code",
   "execution_count": null,
   "metadata": {},
   "outputs": [],
   "source": [
    "sns.set_theme()"
   ]
  },
  {
   "cell_type": "code",
   "execution_count": null,
   "metadata": {},
   "outputs": [],
   "source": [
    "df_eq = pd.DataFrame(data_dict_eq)\n",
    "df_eq.to_pickle(\"df_eq_BSD68_PSNR.pkl\")"
   ]
  },
  {
   "cell_type": "code",
   "execution_count": null,
   "metadata": {},
   "outputs": [],
   "source": [
    "df_aof_agg = df_eq.groupby(\"sp\").agg(\n",
    "    {\n",
    "        \"novel_snr\": [np.mean],\n",
    "    }\n",
    ")"
   ]
  },
  {
   "cell_type": "code",
   "execution_count": null,
   "metadata": {},
   "outputs": [],
   "source": [
    "df_aof_agg = df_aof_agg.reset_index()\n",
    "df_aof_agg.columns = [\n",
    "    \"sp\",\n",
    "    \"mean_novel_snr\",\n",
    "]"
   ]
  },
  {
   "cell_type": "code",
   "execution_count": null,
   "metadata": {},
   "outputs": [],
   "source": [
    "df_aof_agg"
   ]
  },
  {
   "cell_type": "code",
   "execution_count": null,
   "metadata": {},
   "outputs": [],
   "source": [
    "df_melted = df_aof_agg.melt(id_vars=\"sp\", var_name=\"variable\", value_name=\"value\")\n",
    "df_melted"
   ]
  },
  {
   "cell_type": "code",
   "execution_count": null,
   "metadata": {},
   "outputs": [],
   "source": [
    "df_melted.to_clipboard()"
   ]
  },
  {
   "cell_type": "code",
   "execution_count": null,
   "metadata": {},
   "outputs": [],
   "source": [
    "plt.figure(figsize=(10, 6))\n",
    "sns.lineplot(\n",
    "    data=df_melted[\n",
    "        df_melted.variable.isin(\n",
    "            [\n",
    "                \"mean_novel_snr\",\n",
    "            ]\n",
    "        )\n",
    "    ],\n",
    "    x=\"sp\",\n",
    "    y=\"value\",\n",
    "    hue=\"variable\",\n",
    ")\n",
    "\n",
    "plt.xlabel(\"Salt and Pepper Ratio\")\n",
    "plt.ylabel(\"SNR\")\n",
    "plt.show()"
   ]
  }
 ],
 "metadata": {
  "kernelspec": {
   "display_name": "Python 3.9.11 ('image-processing-GAdYTA0i-py3.9')",
   "language": "python",
   "name": "python3"
  },
  "language_info": {
   "codemirror_mode": {
    "name": "ipython",
    "version": 3
   },
   "file_extension": ".py",
   "mimetype": "text/x-python",
   "name": "python",
   "nbconvert_exporter": "python",
   "pygments_lexer": "ipython3",
   "version": "3.11.4"
  },
  "orig_nbformat": 4,
  "vscode": {
   "interpreter": {
    "hash": "b9f7d242fac97db32ddc8d7823cd18dd3aca5736246424ff7d0a31879498194b"
   }
  }
 },
 "nbformat": 4,
 "nbformat_minor": 2
}
