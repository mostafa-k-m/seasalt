{
 "cells": [
  {
   "attachments": {},
   "cell_type": "markdown",
   "metadata": {},
   "source": [
    "# Outlier Method of Filtering\n",
    "\n",
    "**Mostafa Kamal Mostafa Kamel (mos.kamal@nu.edu.eg)**\n"
   ]
  },
  {
   "attachments": {},
   "cell_type": "markdown",
   "metadata": {},
   "source": [
    "## Eval\n"
   ]
  },
  {
   "cell_type": "code",
   "execution_count": 1,
   "metadata": {},
   "outputs": [],
   "source": [
    "from seasalt.seasalt import apply_salt_pepper, signal_to_noise_ratio\n",
    "from PIL import Image\n",
    "from glob import glob\n",
    "from pathlib import Path\n",
    "import pandas as pd\n",
    "from typing import Callable, Optional\n",
    "\n",
    "\n",
    "import matplotlib.pyplot as plt\n",
    "import numpy as np\n",
    "from rich.progress import Progress\n",
    "\n",
    "from scipy.signal import medfilt\n",
    "import warnings\n",
    "import seaborn as sns\n",
    "from seasalt.cython_seasalt import fixed_window_outlier_filter\n",
    "\n",
    "warnings.filterwarnings(\"ignore\")\n",
    "path_to_images = Path().resolve().joinpath(\"BSD68\")\n",
    "image_paths = glob(f\"{str(path_to_images)}/*\")\n",
    "\n",
    "\n",
    "def plot_transformation_hist_eq(\n",
    "    im, sp_ratio, size=3, max_size=15, save_path: Optional[str] = None\n",
    ") -> float:\n",
    "    im_gs = im.convert(\"L\")\n",
    "    arr = np.array(im_gs)  # convert the PIL image object to array\n",
    "    seasoned_image = apply_salt_pepper(arr, ratio=sp_ratio)\n",
    "    corrected_novel = fixed_window_outlier_filter(np.copy(seasoned_image), size)\n",
    "    noisy_snr = signal_to_noise_ratio(im_gs, seasoned_image)\n",
    "    novel_snr = signal_to_noise_ratio(im_gs, corrected_novel)\n",
    "    fig = plt.figure(\n",
    "        figsize=(\n",
    "            12*3,\n",
    "            5*3,\n",
    "        ),\n",
    "        dpi=80,\n",
    "    )\n",
    "    gs = fig.add_gridspec(1, 3, hspace=0.12, wspace=0.08)\n",
    "    axes = gs.subplots(sharex=\"col\", sharey=\"row\")\n",
    "    list(map(lambda ax: ax.set_axis_off(), axes.flatten()))\n",
    "    list(  # type: ignore\n",
    "        map(\n",
    "            lambda input: input[0].set_title(input[1]),\n",
    "            zip(\n",
    "                axes.flatten(),\n",
    "                [\n",
    "                    \"Original\",\n",
    "                    f\"Noisy Image {round(noisy_snr, 2)} dB\",\n",
    "                    \"Novel Approach\\n\" f\"{round(novel_snr, 2)} dB\",\n",
    "                ],\n",
    "            ),\n",
    "        )\n",
    "    )\n",
    "    axes[0].imshow(im_gs, cmap=\"gray\", vmin=0, vmax=255)\n",
    "    axes[1].imshow(seasoned_image, cmap=\"gray\", vmin=0, vmax=255)\n",
    "    axes[2].imshow(corrected_novel, cmap=\"gray\", vmin=0, vmax=255)\n",
    "    if save_path:\n",
    "        plt.axis(\"off\")\n",
    "        Path(save_path).parent.mkdir(parents=True, exist_ok=True)\n",
    "        fig.savefig(save_path)\n",
    "        plt.close()\n",
    "    return novel_snr"
   ]
  },
  {
   "cell_type": "code",
   "execution_count": 2,
   "metadata": {},
   "outputs": [],
   "source": [
    "def plot_single_image(seasoned_arr):\n",
    "    fig = plt.figure(\n",
    "        figsize=(\n",
    "            10,\n",
    "            20,\n",
    "        ),\n",
    "        dpi=80,\n",
    "    )\n",
    "    gs = fig.add_gridspec(1, 1, hspace=0.12, wspace=0.08)\n",
    "    ax = gs.subplots(sharex=\"col\", sharey=\"row\")\n",
    "    ax.imshow(seasoned_arr, cmap=\"gray\", vmin=0, vmax=255)\n",
    "    ax.set_axis_off()"
   ]
  },
  {
   "cell_type": "code",
   "execution_count": 3,
   "metadata": {},
   "outputs": [
    {
     "data": {
      "application/vnd.jupyter.widget-view+json": {
       "model_id": "179b780c5b4d4e15a2cb44405e12c89f",
       "version_major": 2,
       "version_minor": 0
      },
      "text/plain": [
       "Output()"
      ]
     },
     "metadata": {},
     "output_type": "display_data"
    },
    {
     "data": {
      "text/html": [
       "<pre style=\"white-space:pre;overflow-x:auto;line-height:normal;font-family:Menlo,'DejaVu Sans Mono',consolas,'Courier New',monospace\"></pre>\n"
      ],
      "text/plain": []
     },
     "metadata": {},
     "output_type": "display_data"
    },
    {
     "data": {
      "text/html": [
       "<pre style=\"white-space:pre;overflow-x:auto;line-height:normal;font-family:Menlo,'DejaVu Sans Mono',consolas,'Courier New',monospace\">\n",
       "</pre>\n"
      ],
      "text/plain": [
       "\n"
      ]
     },
     "metadata": {},
     "output_type": "display_data"
    },
    {
     "ename": "KeyboardInterrupt",
     "evalue": "",
     "output_type": "error",
     "traceback": [
      "\u001b[0;31m---------------------------------------------------------------------------\u001b[0m",
      "\u001b[0;31mKeyboardInterrupt\u001b[0m                         Traceback (most recent call last)",
      "Cell \u001b[0;32mIn[3], line 18\u001b[0m\n\u001b[1;32m     13\u001b[0m \u001b[39mfor\u001b[39;00m sp, size \u001b[39min\u001b[39;00m \u001b[39mzip\u001b[39m(\n\u001b[1;32m     14\u001b[0m     [\u001b[39m0.1\u001b[39m, \u001b[39m0.2\u001b[39m, \u001b[39m0.3\u001b[39m, \u001b[39m0.4\u001b[39m, \u001b[39m0.5\u001b[39m, \u001b[39m0.6\u001b[39m, \u001b[39m0.7\u001b[39m, \u001b[39m0.8\u001b[39m, \u001b[39m0.9\u001b[39m, \u001b[39m0.95\u001b[39m],\n\u001b[1;32m     15\u001b[0m     [\u001b[39m3\u001b[39m, \u001b[39m3\u001b[39m, \u001b[39m3\u001b[39m, \u001b[39m5\u001b[39m, \u001b[39m7\u001b[39m, \u001b[39m15\u001b[39m, \u001b[39m15\u001b[39m, \u001b[39m15\u001b[39m, \u001b[39m15\u001b[39m, \u001b[39m31\u001b[39m],\n\u001b[1;32m     16\u001b[0m ):\n\u001b[1;32m     17\u001b[0m     im \u001b[39m=\u001b[39m Image\u001b[39m.\u001b[39mopen(p)\n\u001b[0;32m---> 18\u001b[0m     novel_snr \u001b[39m=\u001b[39m plot_transformation_hist_eq(\n\u001b[1;32m     19\u001b[0m         im,\n\u001b[1;32m     20\u001b[0m         sp_ratio\u001b[39m=\u001b[39;49msp,\n\u001b[1;32m     21\u001b[0m         size\u001b[39m=\u001b[39;49msize,\n\u001b[1;32m     22\u001b[0m         save_path\u001b[39m=\u001b[39;49m\u001b[39mf\u001b[39;49m\u001b[39m\"\u001b[39;49m\u001b[39m./images/BSD58-test/\u001b[39;49m\u001b[39m{\u001b[39;49;00mp\u001b[39m.\u001b[39;49msplit(\u001b[39m'\u001b[39;49m\u001b[39m/\u001b[39;49m\u001b[39m'\u001b[39;49m)[\u001b[39m-\u001b[39;49m\u001b[39m1\u001b[39;49m]\u001b[39m.\u001b[39;49msplit(\u001b[39m'\u001b[39;49m\u001b[39m.\u001b[39;49m\u001b[39m'\u001b[39;49m)[\u001b[39m0\u001b[39;49m]\u001b[39m}\u001b[39;49;00m\u001b[39m/\u001b[39;49m\u001b[39m{\u001b[39;49;00m\u001b[39mint\u001b[39;49m(sp\u001b[39m*\u001b[39;49m\u001b[39m100\u001b[39;49m)\u001b[39m}\u001b[39;49;00m\u001b[39m.png\u001b[39;49m\u001b[39m\"\u001b[39;49m,\n\u001b[1;32m     23\u001b[0m     )\n\u001b[1;32m     24\u001b[0m     data_dict_eq[\u001b[39m\"\u001b[39m\u001b[39mim_index\u001b[39m\u001b[39m\"\u001b[39m]\u001b[39m.\u001b[39mappend(img_name)\n\u001b[1;32m     25\u001b[0m     data_dict_eq[\u001b[39m\"\u001b[39m\u001b[39msp\u001b[39m\u001b[39m\"\u001b[39m]\u001b[39m.\u001b[39mappend(sp)\n",
      "Cell \u001b[0;32mIn[1], line 29\u001b[0m, in \u001b[0;36mplot_transformation_hist_eq\u001b[0;34m(im, sp_ratio, size, max_size, save_path)\u001b[0m\n\u001b[1;32m     27\u001b[0m arr \u001b[39m=\u001b[39m np\u001b[39m.\u001b[39marray(im_gs)  \u001b[39m# convert the PIL image object to array\u001b[39;00m\n\u001b[1;32m     28\u001b[0m seasoned_image \u001b[39m=\u001b[39m apply_salt_pepper(arr, ratio\u001b[39m=\u001b[39msp_ratio)\n\u001b[0;32m---> 29\u001b[0m corrected_novel \u001b[39m=\u001b[39m fixed_window_outlier_filter(np\u001b[39m.\u001b[39;49mcopy(seasoned_image), size)\n\u001b[1;32m     30\u001b[0m noisy_snr \u001b[39m=\u001b[39m signal_to_noise_ratio(im_gs, seasoned_image)\n\u001b[1;32m     31\u001b[0m novel_snr \u001b[39m=\u001b[39m signal_to_noise_ratio(im_gs, corrected_novel)\n",
      "File \u001b[0;32m~/Documents/school/project/seasalt/cython_seasalt.pyx:95\u001b[0m, in \u001b[0;36mseasalt.cython_seasalt.fixed_window_outlier_filter\u001b[0;34m()\u001b[0m\n\u001b[1;32m     93\u001b[0m \n\u001b[1;32m     94\u001b[0m \n\u001b[0;32m---> 95\u001b[0m cpdef cnp.ndarray[cnp.uint8_t, ndim=2] fixed_window_outlier_filter(\n\u001b[1;32m     96\u001b[0m         cnp.ndarray[cnp.uint8_t, ndim=2] arr,\n\u001b[1;32m     97\u001b[0m         int size=3,\n",
      "File \u001b[0;32m~/Documents/school/project/seasalt/cython_seasalt.pyx:113\u001b[0m, in \u001b[0;36mseasalt.cython_seasalt.fixed_window_outlier_filter\u001b[0;34m()\u001b[0m\n\u001b[1;32m    111\u001b[0m \n\u001b[1;32m    112\u001b[0m     for index in np.argwhere(arr + 1 < threshold):\n\u001b[0;32m--> 113\u001b[0m         result[index[0], index[1]] = weighted_mean(padded_arr[\n\u001b[1;32m    114\u001b[0m             index[0] - size + 2 * kernel_center + 1 : index[0] + size,\n\u001b[1;32m    115\u001b[0m             index[1] - size + 2 * kernel_center + 1 : index[1] + size,\n",
      "File \u001b[0;32m~/Documents/school/project/seasalt/cython_seasalt.pyx:42\u001b[0m, in \u001b[0;36mseasalt.cython_seasalt.weighted_mean\u001b[0;34m()\u001b[0m\n\u001b[1;32m     40\u001b[0m cdef cnp.ndarray[cnp.uint8_t, ndim=2, cast=True] selector = kernel + 1 > threshold\n\u001b[1;32m     41\u001b[0m \n\u001b[0;32m---> 42\u001b[0m cdef cnp.ndarray[long, ndim=2] ixs = np.transpose(np.where(kernel + 1 > threshold))\n\u001b[1;32m     43\u001b[0m cdef int num_ixs = ixs.shape[0]\n\u001b[1;32m     44\u001b[0m if num_ixs == 0:\n",
      "File \u001b[0;32m~/Library/Caches/pypoetry/virtualenvs/project-yKDSMzKm-py3.11/lib/python3.11/site-packages/numpy/core/fromnumeric.py:655\u001b[0m, in \u001b[0;36mtranspose\u001b[0;34m(a, axes)\u001b[0m\n\u001b[1;32m    588\u001b[0m \u001b[39m@array_function_dispatch\u001b[39m(_transpose_dispatcher)\n\u001b[1;32m    589\u001b[0m \u001b[39mdef\u001b[39;00m \u001b[39mtranspose\u001b[39m(a, axes\u001b[39m=\u001b[39m\u001b[39mNone\u001b[39;00m):\n\u001b[1;32m    590\u001b[0m \u001b[39m    \u001b[39m\u001b[39m\"\"\"\u001b[39;00m\n\u001b[1;32m    591\u001b[0m \u001b[39m    Returns an array with axes transposed.\u001b[39;00m\n\u001b[1;32m    592\u001b[0m \n\u001b[0;32m   (...)\u001b[0m\n\u001b[1;32m    653\u001b[0m \n\u001b[1;32m    654\u001b[0m \u001b[39m    \"\"\"\u001b[39;00m\n\u001b[0;32m--> 655\u001b[0m     \u001b[39mreturn\u001b[39;00m _wrapfunc(a, \u001b[39m'\u001b[39;49m\u001b[39mtranspose\u001b[39;49m\u001b[39m'\u001b[39;49m, axes)\n",
      "File \u001b[0;32m~/Library/Caches/pypoetry/virtualenvs/project-yKDSMzKm-py3.11/lib/python3.11/site-packages/numpy/core/fromnumeric.py:54\u001b[0m, in \u001b[0;36m_wrapfunc\u001b[0;34m(obj, method, *args, **kwds)\u001b[0m\n\u001b[1;32m     53\u001b[0m \u001b[39mdef\u001b[39;00m \u001b[39m_wrapfunc\u001b[39m(obj, method, \u001b[39m*\u001b[39margs, \u001b[39m*\u001b[39m\u001b[39m*\u001b[39mkwds):\n\u001b[0;32m---> 54\u001b[0m     bound \u001b[39m=\u001b[39m \u001b[39mgetattr\u001b[39m(obj, method, \u001b[39mNone\u001b[39;00m)\n\u001b[1;32m     55\u001b[0m     \u001b[39mif\u001b[39;00m bound \u001b[39mis\u001b[39;00m \u001b[39mNone\u001b[39;00m:\n\u001b[1;32m     56\u001b[0m         \u001b[39mreturn\u001b[39;00m _wrapit(obj, method, \u001b[39m*\u001b[39margs, \u001b[39m*\u001b[39m\u001b[39m*\u001b[39mkwds)\n",
      "\u001b[0;31mKeyboardInterrupt\u001b[0m: "
     ]
    }
   ],
   "source": [
    "data_dict_eq = dict(\n",
    "    im_index=[],\n",
    "    sp=[],\n",
    "    novel_snr=[],\n",
    ")\n",
    "root_path = Path().resolve().joinpath(\"aof_eval\").joinpath(\"eq\")\n",
    "\n",
    "with Progress() as progress:\n",
    "    task = progress.add_task(\"Running...\", total=len(image_paths) * 10)\n",
    "\n",
    "    for p in image_paths:\n",
    "        img_name = p.split(\"/\")[-1].split(\".\")[0]\n",
    "        for sp, size in zip(\n",
    "            [0.1, 0.2, 0.3, 0.4, 0.5, 0.6, 0.7, 0.8, 0.9, 0.95],\n",
    "            [3, 3, 3, 5, 7, 15, 15, 15, 15, 31],\n",
    "        ):\n",
    "            im = Image.open(p)\n",
    "            novel_snr = plot_transformation_hist_eq(\n",
    "                im,\n",
    "                sp_ratio=sp,\n",
    "                size=size,\n",
    "                save_path=f\"./images/BSD58-test/{p.split('/')[-1].split('.')[0]}/{int(sp*100)}.png\",\n",
    "            )\n",
    "            data_dict_eq[\"im_index\"].append(img_name)\n",
    "            data_dict_eq[\"sp\"].append(sp)\n",
    "            data_dict_eq[\"novel_snr\"].append(novel_snr)\n",
    "            progress.update(task, advance=1)"
   ]
  },
  {
   "cell_type": "code",
   "execution_count": null,
   "metadata": {},
   "outputs": [],
   "source": [
    "sns.set_theme()"
   ]
  },
  {
   "cell_type": "code",
   "execution_count": null,
   "metadata": {},
   "outputs": [],
   "source": [
    "df_eq = pd.DataFrame(data_dict_eq)\n",
    "df_eq.to_pickle(\"df_eq_BSD68.pkl\")"
   ]
  },
  {
   "cell_type": "code",
   "execution_count": null,
   "metadata": {},
   "outputs": [],
   "source": [
    "df_aof_agg = df_eq.groupby(\"sp\").agg(\n",
    "    {\n",
    "        \"novel_snr\": [np.mean],\n",
    "    }\n",
    ")"
   ]
  },
  {
   "cell_type": "code",
   "execution_count": null,
   "metadata": {},
   "outputs": [],
   "source": [
    "df_aof_agg = df_aof_agg.reset_index()\n",
    "df_aof_agg.columns = [\n",
    "    \"sp\",\n",
    "    \"mean_novel_snr\",\n",
    "]"
   ]
  },
  {
   "cell_type": "code",
   "execution_count": null,
   "metadata": {},
   "outputs": [],
   "source": [
    "df_aof_agg"
   ]
  },
  {
   "cell_type": "code",
   "execution_count": null,
   "metadata": {},
   "outputs": [],
   "source": [
    "df_melted = df_aof_agg.melt(id_vars=\"sp\", var_name=\"variable\", value_name=\"value\")\n",
    "df_melted"
   ]
  },
  {
   "cell_type": "code",
   "execution_count": null,
   "metadata": {},
   "outputs": [],
   "source": [
    "df_melted.to_clipboard()"
   ]
  },
  {
   "cell_type": "code",
   "execution_count": null,
   "metadata": {},
   "outputs": [],
   "source": [
    "plt.figure(figsize=(10, 6))\n",
    "sns.lineplot(\n",
    "    data=df_melted[\n",
    "        df_melted.variable.isin(\n",
    "            [\n",
    "                \"mean_novel_snr\",\n",
    "            ]\n",
    "        )\n",
    "    ],\n",
    "    x=\"sp\",\n",
    "    y=\"value\",\n",
    "    hue=\"variable\",\n",
    ")\n",
    "\n",
    "plt.xlabel(\"Salt and Pepper Ratio\")\n",
    "plt.ylabel(\"SNR\")\n",
    "plt.show()"
   ]
  }
 ],
 "metadata": {
  "kernelspec": {
   "display_name": "Python 3.9.11 ('image-processing-GAdYTA0i-py3.9')",
   "language": "python",
   "name": "python3"
  },
  "language_info": {
   "codemirror_mode": {
    "name": "ipython",
    "version": 3
   },
   "file_extension": ".py",
   "mimetype": "text/x-python",
   "name": "python",
   "nbconvert_exporter": "python",
   "pygments_lexer": "ipython3",
   "version": "3.11.4"
  },
  "orig_nbformat": 4,
  "vscode": {
   "interpreter": {
    "hash": "b9f7d242fac97db32ddc8d7823cd18dd3aca5736246424ff7d0a31879498194b"
   }
  }
 },
 "nbformat": 4,
 "nbformat_minor": 2
}
